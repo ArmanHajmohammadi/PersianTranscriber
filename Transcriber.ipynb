{
  "nbformat": 4,
  "nbformat_minor": 0,
  "metadata": {
    "colab": {
      "provenance": [],
      "gpuType": "T4",
      "authorship_tag": "ABX9TyMqfc7xCgb8fDoLMvquM+G4",
      "include_colab_link": true
    },
    "kernelspec": {
      "name": "python3",
      "display_name": "Python 3"
    },
    "language_info": {
      "name": "python"
    },
    "accelerator": "GPU"
  },
  "cells": [
    {
      "cell_type": "markdown",
      "metadata": {
        "id": "view-in-github",
        "colab_type": "text"
      },
      "source": [
        "<a href=\"https://colab.research.google.com/github/ArmanHajmohammadi/PersianTranscriber/blob/main/Transcriber.ipynb\" target=\"_parent\"><img src=\"https://colab.research.google.com/assets/colab-badge.svg\" alt=\"Open In Colab\"/></a>"
      ]
    },
    {
      "cell_type": "code",
      "execution_count": null,
      "metadata": {
        "id": "fo-V3x0TPhjo"
      },
      "outputs": [],
      "source": [
        "!pip install -U openai-whisper\n",
        "!pip install python-docx"
      ]
    },
    {
      "cell_type": "code",
      "source": [
        "import os\n",
        "import whisper\n",
        "from docx import Document"
      ],
      "metadata": {
        "id": "Z-Azdjl0P2r6"
      },
      "execution_count": 4,
      "outputs": []
    },
    {
      "cell_type": "code",
      "source": [
        "def convert_mp3_to_text(mp3_file, output_doc):\n",
        "    result = model.transcribe(mp3_file, fp16=False)\n",
        "    text = result[\"text\"]\n",
        "\n",
        "    doc = Document()\n",
        "    doc.add_paragraph(text)\n",
        "    doc.save(output_doc)\n",
        "\n",
        "\n",
        "def process_mp3_files_in_folder(folder_path):\n",
        "    for filename in os.listdir(folder_path):\n",
        "        if filename.endswith(\".mp3\"):\n",
        "            mp3_file = os.path.join(folder_path, filename)\n",
        "            output_doc = os.path.splitext(mp3_file)[0] + \".docx\"\n",
        "            convert_mp3_to_text(mp3_file, output_doc)\n",
        "            print(f\"Converted {mp3_file} to text and saved to {output_doc}\")"
      ],
      "metadata": {
        "id": "X0-gU11wP3Q5"
      },
      "execution_count": 5,
      "outputs": []
    },
    {
      "cell_type": "code",
      "source": [
        "model = whisper.load_model(\"large\")"
      ],
      "metadata": {
        "colab": {
          "base_uri": "https://localhost:8080/"
        },
        "id": "dhmwjpFgP3m3",
        "outputId": "8c5d2bb1-c666-4832-d169-7b7c17f6eae5"
      },
      "execution_count": 6,
      "outputs": [
        {
          "output_type": "stream",
          "name": "stderr",
          "text": [
            "100%|██████████████████████████████████████| 2.88G/2.88G [00:29<00:00, 104MiB/s]\n"
          ]
        }
      ]
    },
    {
      "cell_type": "code",
      "source": [
        "folder_path = r\"./\"\n",
        "process_mp3_files_in_folder(folder_path)"
      ],
      "metadata": {
        "colab": {
          "base_uri": "https://localhost:8080/"
        },
        "id": "cQEbmU2ZTRpH",
        "outputId": "f4324014-d512-41f1-a467-18fa8a2b7bf8"
      },
      "execution_count": 7,
      "outputs": [
        {
          "output_type": "stream",
          "name": "stdout",
          "text": [
            "Converted ./test.mp3 to text and saved to ./test.docx\n"
          ]
        }
      ]
    }
  ]
}