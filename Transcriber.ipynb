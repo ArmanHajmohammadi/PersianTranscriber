{
  "nbformat": 4,
  "nbformat_minor": 0,
  "metadata": {
    "colab": {
      "provenance": [],
      "authorship_tag": "ABX9TyPxPLoHl4fFgDCzQDK+A5xG",
      "include_colab_link": true
    },
    "kernelspec": {
      "name": "python3",
      "display_name": "Python 3"
    },
    "language_info": {
      "name": "python"
    }
  },
  "cells": [
    {
      "cell_type": "markdown",
      "metadata": {
        "id": "view-in-github",
        "colab_type": "text"
      },
      "source": [
        "<a href=\"https://colab.research.google.com/github/ArmanHajmohammadi/PersianTranscriber/blob/main/Transcriber.ipynb\" target=\"_parent\"><img src=\"https://colab.research.google.com/assets/colab-badge.svg\" alt=\"Open In Colab\"/></a>"
      ]
    },
    {
      "cell_type": "code",
      "execution_count": null,
      "metadata": {
        "id": "fo-V3x0TPhjo"
      },
      "outputs": [],
      "source": [
        "!pip install -U openai-whisper\n",
        "!pip install python-docx"
      ]
    },
    {
      "cell_type": "code",
      "source": [
        "import os\n",
        "import whisper\n",
        "from docx import Document"
      ],
      "metadata": {
        "id": "Z-Azdjl0P2r6"
      },
      "execution_count": 2,
      "outputs": []
    },
    {
      "cell_type": "code",
      "source": [
        "def convert_mp3_to_text(mp3_file, output_doc):\n",
        "    result = model.transcribe(mp3_file, fp16=False)\n",
        "    text = result[\"text\"]\n",
        "\n",
        "    doc = Document()\n",
        "    doc.add_paragraph(text)\n",
        "    doc.save(output_doc)\n",
        "\n",
        "\n",
        "def process_mp3_files_in_folder(folder_path):\n",
        "    for filename in os.listdir(folder_path):\n",
        "        if filename.endswith(\".mp3\"):\n",
        "            mp3_file = os.path.join(folder_path, filename)\n",
        "            output_doc = os.path.splitext(mp3_file)[0] + \".docx\"\n",
        "            convert_mp3_to_text(mp3_file, output_doc)\n",
        "            print(f\"Converted {mp3_file} to text and saved to {output_doc}\")"
      ],
      "metadata": {
        "id": "X0-gU11wP3Q5"
      },
      "execution_count": 3,
      "outputs": []
    },
    {
      "cell_type": "code",
      "source": [
        "model = whisper.load_model(\"large\")\n",
        "folder_path = r\"./\"\n",
        "process_mp3_files_in_folder(folder_path)"
      ],
      "metadata": {
        "colab": {
          "base_uri": "https://localhost:8080/"
        },
        "id": "dhmwjpFgP3m3",
        "outputId": "b16b3fd3-c70c-406d-f968-5b5874d5d912"
      },
      "execution_count": null,
      "outputs": [
        {
          "output_type": "stream",
          "name": "stderr",
          "text": [
            "100%|█████████████████████████████████████| 2.88G/2.88G [00:34<00:00, 90.0MiB/s]\n"
          ]
        }
      ]
    },
    {
      "cell_type": "code",
      "source": [],
      "metadata": {
        "id": "cQEbmU2ZTRpH"
      },
      "execution_count": null,
      "outputs": []
    }
  ]
}